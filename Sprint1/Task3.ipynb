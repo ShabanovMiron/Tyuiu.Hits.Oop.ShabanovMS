{
 "cells": [
  {
   "cell_type": "markdown",
   "metadata": {},
   "source": [
    "<h1 style=\"color:DodgerBlue\">Индивидальный проект</h1>"
   ]
  },
  {
   "cell_type": "markdown",
   "metadata": {},
   "source": [
    "<h2 style=\"color:DodgerBlue\">Название проекта:</h2>\n",
    "\n",
    "----\n",
    "\n",
    "### Вариант задания 18\n"
   ]
  },
  {
   "cell_type": "markdown",
   "metadata": {},
   "source": [
    "<h2 style=\"color:DodgerBlue\">Описание проекта:</h2>\n",
    "\n",
    "----\n",
    "\n",
    "Описание задачи:\n",
    "\n",
    "Создать базовый класс Review в C#, который будет представлять отзывы о\n",
    "продуктах или услугах. На основе этого класса разработать 2-3 производных класса,\n",
    "демонстрирующих принципы наследования и полиморфизма. В каждом из классов\n",
    "должны быть реализованы новые атрибуты и методы, а также переопределены\n",
    "некоторые методы базового класса для демонстрации полиморфизма.\n",
    "\n",
    "Требования к базовому классу Review:\n",
    "\n",
    "• Атрибуты: \n",
    "\n",
    "ID отзыва (ReviewId), Текст отзыва (Text), Рейтинг (Rating).\n",
    "\n",
    "\n",
    "\n",
    "• Методы:\n",
    "\n",
    "o DisplayReview(): метод для отображения отзыва.\n",
    "\n",
    "o RateProduct(): метод для присвоения рейтинга продукту.\n",
    "\n",
    "o GetReviewDetails(): метод для получения деталей отзыва.\n",
    "\n",
    "\n",
    "Требования к производным классам:\n",
    "\n",
    "1. ОтзывОбслуживания (ServiceReview): Должен содержать дополнительные\n",
    "атрибуты, такие как Дата посещения (VisitDate).\n",
    "Метод DisplayReview() должен быть переопределен для включения даты\n",
    "посещения в отображение отзыва.\n",
    "2. ОтзывТовара (ProductReview): Должен содержать дополнительные атрибуты,\n",
    "такие как Идентификатор продукта (ProductId). Метод RateProduct() должен\n",
    "быть переопределен для связывания рейтинга с конкретным продуктом.\n",
    "3. ОтзывУслуги (ServiceReview) (если требуется третий класс): Должен\n",
    "содержать дополнительные атрибуты, такие как Время начала услуги\n",
    "(StartTime). Метод GetReviewDetails() должен быть переопределен для\n",
    "отображения времени начала услуги вместе с другими деталями отзыва.\n",
    "\n",
    "#### Дополнительное задание\n",
    "Добавьте к сущестующим классам конструктора классов с использованием гетторов и сетторов и реализуйте взаимодействие объектов между собой"
   ]
  },
  {
   "cell_type": "markdown",
   "metadata": {},
   "source": [
    "<h2 style=\"color:DodgerBlue\">Реализация:</h2>\n",
    "\n",
    "----"
   ]
  },
  {
   "cell_type": "code",
   "execution_count": 1,
   "metadata": {
    "dotnet_interactive": {
     "language": "csharp"
    },
    "polyglot_notebook": {
     "kernelName": "csharp"
    }
   },
   "outputs": [],
   "source": [
    "using System;\n",
    "\n",
    "public abstract class Review\n",
    "{\n",
    "    public int ReviewId { get; set; }\n",
    "    public string Text { get; set; }\n",
    "    public int Rating { get; set; }\n",
    "\n",
    "    public Review(int reviewId, string text, int rating)\n",
    "    {\n",
    "        ReviewId = reviewId;\n",
    "        Text = text;\n",
    "        Rating = rating;\n",
    "    }\n",
    "\n",
    "    public virtual void DisplayReview()\n",
    "    {\n",
    "        Console.WriteLine($\"Отзыв ID: {ReviewId}\\nТекст: {Text}\\nРейтинг: {Rating}\");\n",
    "    }\n",
    "\n",
    "    public virtual void RateProduct(int rating)\n",
    "    {\n",
    "        Rating = rating;\n",
    "        Console.WriteLine($\"Рейтинг для отзыва ID {ReviewId} обновлен на {Rating}.\");\n",
    "    }\n",
    "\n",
    "    public virtual string GetReviewDetails()\n",
    "    {\n",
    "        return $\"ID: {ReviewId}, Текст: {Text}, Рейтинг: {Rating}\";\n",
    "    }\n",
    "}\n",
    "\n",
    "public class ServiceReview : Review\n",
    "{\n",
    "    public DateTime VisitDate { get; set; }\n",
    "\n",
    "    public ServiceReview(int reviewId, string text, int rating, DateTime visitDate)\n",
    "        : base(reviewId, text, rating)\n",
    "    {\n",
    "        VisitDate = visitDate;\n",
    "    }\n",
    "\n",
    "    public override void DisplayReview()\n",
    "    {\n",
    "        base.DisplayReview();\n",
    "        Console.WriteLine($\"Дата посещения: {VisitDate.ToShortDateString()}\");\n",
    "    }\n",
    "}\n",
    "\n",
    "public class ProductReview : Review\n",
    "{\n",
    "    public int ProductId { get; set; }\n",
    "\n",
    "    public ProductReview(int reviewId, string text, int rating, int productId)\n",
    "        : base(reviewId, text, rating)\n",
    "    {\n",
    "        ProductId = productId;\n",
    "    }\n",
    "\n",
    "    public override void RateProduct(int rating)\n",
    "    {\n",
    "        base.RateProduct(rating);\n",
    "        Console.WriteLine($\"Рейтинг для продукта ID {ProductId} обновлен на {Rating}.\");\n",
    "    }\n",
    "}\n",
    "\n",
    "ServiceReview serviceReview = new ServiceReview(1, \"Отличное обслуживание!\", 5, DateTime.Now);\n",
    "    serviceReview.DisplayReview();\n",
    "    serviceReview.RateProduct(4);\n",
    "    Console.WriteLine(serviceReview.GetReviewDetails());\n",
    "\n",
    "Console.WriteLine();\n",
    "\n",
    "ProductReview productReview = new ProductReview(2, \"Продукт работает хорошо.\", 4, 101);\n",
    "    productReview.DisplayReview();\n",
    "    productReview.RateProduct(5);\n",
    "    Console.WriteLine(productReview.GetReviewDetails());"
   ]
  }
 ],
 "metadata": {
  "kernelspec": {
   "display_name": ".NET (C#)",
   "language": "C#",
   "name": ".net-csharp"
  },
  "polyglot_notebook": {
   "kernelInfo": {
    "defaultKernelName": "csharp",
    "items": [
     {
      "aliases": [],
      "languageName": "csharp",
      "name": "csharp"
     }
    ]
   }
  }
 },
 "nbformat": 4,
 "nbformat_minor": 2
}

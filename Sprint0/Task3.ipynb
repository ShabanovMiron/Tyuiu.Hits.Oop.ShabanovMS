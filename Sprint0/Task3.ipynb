{
 "cells": [
  {
   "cell_type": "markdown",
   "metadata": {},
   "source": [
    "<h1 style=\"color:DodgerBlue\">Индивидальный проект</h1>"
   ]
  },
  {
   "cell_type": "markdown",
   "metadata": {},
   "source": [
    "<h2 style=\"color:DodgerBlue\">Название проекта:</h2>\n",
    "\n",
    "----\n",
    "\n",
    "### Вариант задания 18\n"
   ]
  },
  {
   "cell_type": "markdown",
   "metadata": {},
   "source": [
    "<h2 style=\"color:DodgerBlue\">Описание проекта:</h2>\n",
    "\n",
    "----\n",
    "\n",
    "Описание задачи:\n",
    "\n",
    "Создать базовый класс Review в C#, который будет представлять отзывы о\n",
    "продуктах или услугах. На основе этого класса разработать 2-3 производных класса,\n",
    "демонстрирующих принципы наследования и полиморфизма. В каждом из классов\n",
    "должны быть реализованы новые атрибуты и методы, а также переопределены\n",
    "некоторые методы базового класса для демонстрации полиморфизма.\n",
    "\n",
    "Требования к базовому классу Review:\n",
    "\n",
    "• Атрибуты: \n",
    "\n",
    "ID отзыва (ReviewId), Текст отзыва (Text), Рейтинг (Rating).\n",
    "\n",
    "\n",
    "\n",
    "• Методы:\n",
    "\n",
    "o DisplayReview(): метод для отображения отзыва.\n",
    "\n",
    "o RateProduct(): метод для присвоения рейтинга продукту.\n",
    "\n",
    "o GetReviewDetails(): метод для получения деталей отзыва.\n",
    "\n",
    "\n",
    "Требования к производным классам:\n",
    "\n",
    "1. ОтзывОбслуживания (ServiceReview): Должен содержать дополнительные\n",
    "атрибуты, такие как Дата посещения (VisitDate).\n",
    "Метод DisplayReview() должен быть переопределен для включения даты\n",
    "посещения в отображение отзыва.\n",
    "2. ОтзывТовара (ProductReview): Должен содержать дополнительные атрибуты,\n",
    "такие как Идентификатор продукта (ProductId). Метод RateProduct() должен\n",
    "быть переопределен для связывания рейтинга с конкретным продуктом.\n",
    "3. ОтзывУслуги (ServiceReview) (если требуется третий класс): Должен\n",
    "содержать дополнительные атрибуты, такие как Время начала услуги\n",
    "(StartTime). Метод GetReviewDetails() должен быть переопределен для\n",
    "отображения времени начала услуги вместе с другими деталями отзыва."
   ]
  },
  {
   "cell_type": "markdown",
   "metadata": {},
   "source": [
    "<h2 style=\"color:DodgerBlue\">Реализация:</h2>\n",
    "\n",
    "----"
   ]
  },
  {
   "cell_type": "code",
   "execution_count": 2,
   "metadata": {
    "dotnet_interactive": {
     "language": "csharp"
    },
    "polyglot_notebook": {
     "kernelName": "csharp"
    }
   },
   "outputs": [],
   "source": []
  }
 ],
 "metadata": {
  "kernelspec": {
   "display_name": ".NET (C#)",
   "language": "C#",
   "name": ".net-csharp"
  },
  "polyglot_notebook": {
   "kernelInfo": {
    "defaultKernelName": "csharp",
    "items": [
     {
      "aliases": [],
      "languageName": "csharp",
      "name": "csharp"
     }
    ]
   }
  }
 },
 "nbformat": 4,
 "nbformat_minor": 2
}
